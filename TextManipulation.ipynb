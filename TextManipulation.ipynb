{
 "cells": [
  {
   "cell_type": "code",
   "execution_count": 1,
   "id": "ad398bff",
   "metadata": {},
   "outputs": [],
   "source": [
    "import sparknlp\n",
    "from pyspark import *\n",
    "from pyspark.sql import *\n",
    "from pyspark.sql.functions import *\n",
    "from pyspark.sql.types import *\n",
    "import matplotlib.pyplot as plt\n",
    "\n",
    "import pandas as pd\n",
    "import numpy as np\n",
    "import json\n",
    "\n",
    "from pyspark.ml import Pipeline\n",
    "# import pyspark.sql.functions as F\n",
    "\n",
    "import sparknlp\n",
    "from sparknlp.annotator import *\n",
    "from sparknlp.base import *\n",
    "from sparknlp.pretrained import PretrainedPipeline"
   ]
  },
  {
   "cell_type": "code",
   "execution_count": 2,
   "id": "0d99f147",
   "metadata": {},
   "outputs": [
    {
     "name": "stdout",
     "output_type": "stream",
     "text": [
      "Warning::Spark Session already created, some configs may not take.\n",
      "23/05/05 20:10:56 WARN SparkSession: Using an existing Spark session; only runtime SQL configurations will take effect.\n"
     ]
    }
   ],
   "source": [
    "# Start Spark Session\n",
    "spark = sparknlp.start()\n",
    "\n",
    "spark.sparkContext.setLogLevel(\"OFF\")"
   ]
  },
  {
   "cell_type": "code",
   "execution_count": 3,
   "id": "0265012f",
   "metadata": {},
   "outputs": [
    {
     "name": "stdout",
     "output_type": "stream",
     "text": [
      "Spark NLP Version : 4.4.1\n"
     ]
    },
    {
     "data": {
      "text/html": [
       "\n",
       "            <div>\n",
       "                <p><b>SparkSession - hive</b></p>\n",
       "                \n",
       "        <div>\n",
       "            <p><b>SparkContext</b></p>\n",
       "\n",
       "            <p><a href=\"http://192.168.182.128:4040\">Spark UI</a></p>\n",
       "\n",
       "            <dl>\n",
       "              <dt>Version</dt>\n",
       "                <dd><code>v3.3.1</code></dd>\n",
       "              <dt>Master</dt>\n",
       "                <dd><code>local[*]</code></dd>\n",
       "              <dt>AppName</dt>\n",
       "                <dd><code>PySparkShell</code></dd>\n",
       "            </dl>\n",
       "        </div>\n",
       "        \n",
       "            </div>\n",
       "        "
      ],
      "text/plain": [
       "<pyspark.sql.session.SparkSession at 0x7f4a884920e0>"
      ]
     },
     "execution_count": 3,
     "metadata": {},
     "output_type": "execute_result"
    }
   ],
   "source": [
    "print (\"Spark NLP Version :\", sparknlp.version())\n",
    "spark"
   ]
  },
  {
   "cell_type": "code",
   "execution_count": 4,
   "id": "8fc65e5d",
   "metadata": {},
   "outputs": [],
   "source": [
    "# declare schema\n",
    "schema = StructType([\n",
    "    StructField(\"_c0\", IntegerType(), True),\n",
    "    StructField(\"id\", IntegerType(), True),\n",
    "    StructField(\"title\", StringType(), True),\n",
    "    StructField(\"publication\", StringType(), True),\n",
    "    StructField(\"author\", StringType(), True),\n",
    "    StructField(\"date\", StringType(), True),\n",
    "    StructField(\"year\", IntegerType(), True),\n",
    "    StructField(\"month\", IntegerType(), True),\n",
    "    StructField(\"url\", StringType(), True),\n",
    "    StructField(\"content\", StringType(), True),\n",
    "])"
   ]
  },
  {
   "cell_type": "code",
   "execution_count": 6,
   "id": "f7afc1b0",
   "metadata": {},
   "outputs": [
    {
     "name": "stdout",
     "output_type": "stream",
     "text": [
      "root\n",
      " |-- _c0: integer (nullable = true)\n",
      " |-- id: integer (nullable = true)\n",
      " |-- title: string (nullable = true)\n",
      " |-- publication: string (nullable = true)\n",
      " |-- author: string (nullable = true)\n",
      " |-- date: string (nullable = true)\n",
      " |-- year: integer (nullable = true)\n",
      " |-- month: integer (nullable = true)\n",
      " |-- url: string (nullable = true)\n",
      " |-- content: string (nullable = true)\n",
      "\n"
     ]
    }
   ],
   "source": [
    "#read data\n",
    "df = spark.read.csv(\"data/articles1.csv\", schema=schema, header=True)\n",
    "df.printSchema()"
   ]
  },
  {
   "cell_type": "code",
   "execution_count": 7,
   "id": "9b361c61",
   "metadata": {},
   "outputs": [
    {
     "name": "stderr",
     "output_type": "stream",
     "text": [
      "\r",
      "[Stage 0:>                                                          (0 + 1) / 1]\r"
     ]
    },
    {
     "name": "stdout",
     "output_type": "stream",
     "text": [
      "+---+-----+--------------------+--------------+--------------------+----------+----+-----+----+--------------------+\n",
      "|_c0|   id|               title|   publication|              author|      date|year|month| url|             content|\n",
      "+---+-----+--------------------+--------------+--------------------+----------+----+-----+----+--------------------+\n",
      "|  0|17283|House Republicans...|New York Times|          Carl Hulse|2016-12-31|null| null|null|WASHINGTON  —   C...|\n",
      "|  1|17284|Rift Between Offi...|New York Times|Benjamin Mueller ...|2017-06-19|null| null|null|After the bullet ...|\n",
      "|  2|17285|Tyrus Wong, ‘Bamb...|New York Times|        Margalit Fox|2017-01-06|null| null|null|When Walt Disney’...|\n",
      "|  3|17286|Among Deaths in 2...|New York Times|    William McDonald|2017-04-10|null| null|null|Death may be the ...|\n",
      "|  4|17287|Kim Jong-un Says ...|New York Times|       Choe Sang-Hun|2017-01-02|null| null|null|SEOUL, South Kore...|\n",
      "+---+-----+--------------------+--------------+--------------------+----------+----+-----+----+--------------------+\n",
      "only showing top 5 rows\n",
      "\n"
     ]
    },
    {
     "name": "stderr",
     "output_type": "stream",
     "text": [
      "\r",
      "                                                                                \r"
     ]
    }
   ],
   "source": [
    "df.show(5)"
   ]
  },
  {
   "cell_type": "code",
   "execution_count": 8,
   "id": "b855d249",
   "metadata": {
    "scrolled": true
   },
   "outputs": [
    {
     "name": "stderr",
     "output_type": "stream",
     "text": [
      "\r",
      "[Stage 1:>                                                          (0 + 2) / 2]\r"
     ]
    },
    {
     "name": "stdout",
     "output_type": "stream",
     "text": [
      "+---+---+-----+-----------+------+----+-----+-----+-----+-------+\n",
      "|_c0| id|title|publication|author|date| year|month|  url|content|\n",
      "+---+---+-----+-----------+------+----+-----+-----+-----+-------+\n",
      "|  4|  4|    0|          3|  6306|   3|50004|50004|49994|      9|\n",
      "+---+---+-----+-----------+------+----+-----+-----+-----+-------+\n",
      "\n"
     ]
    },
    {
     "name": "stderr",
     "output_type": "stream",
     "text": [
      "\r",
      "                                                                                \r"
     ]
    }
   ],
   "source": [
    "# check null values\n",
    "df.select([count(when(isnan(c) | col(c).isNull(), c)).alias(c) for c in df.columns]).show()"
   ]
  },
  {
   "cell_type": "code",
   "execution_count": 9,
   "id": "cf3aa6bd",
   "metadata": {},
   "outputs": [],
   "source": [
    "# drop rows with null in following columns (because these are only a fraction of the whole data)\n",
    "df = df.na.drop(subset=[\"id\",\"publication\",\"date\",\"content\"])"
   ]
  },
  {
   "cell_type": "code",
   "execution_count": 10,
   "id": "1bf8b398",
   "metadata": {},
   "outputs": [
    {
     "name": "stderr",
     "output_type": "stream",
     "text": [
      "[Stage 4:=============================>                             (1 + 1) / 2]\r"
     ]
    },
    {
     "name": "stdout",
     "output_type": "stream",
     "text": [
      "+---+---+-----+-----------+------+----+-----+-----+-----+-------+\n",
      "|_c0| id|title|publication|author|date| year|month|  url|content|\n",
      "+---+---+-----+-----------+------+----+-----+-----+-----+-------+\n",
      "|  0|  0|    0|          0|  6303|   0|49992|49992|49991|      0|\n",
      "+---+---+-----+-----------+------+----+-----+-----+-----+-------+\n",
      "\n"
     ]
    },
    {
     "name": "stderr",
     "output_type": "stream",
     "text": [
      "\r",
      "                                                                                \r"
     ]
    }
   ],
   "source": [
    "# check if those null values are gone\n",
    "df.select([count(when(isnan(c) | col(c).isNull(), c)).alias(c) for c in df.columns]).show()"
   ]
  },
  {
   "cell_type": "code",
   "execution_count": 11,
   "id": "27978a93",
   "metadata": {},
   "outputs": [
    {
     "name": "stderr",
     "output_type": "stream",
     "text": [
      "                                                                                \r"
     ]
    },
    {
     "data": {
      "text/plain": [
       "49992"
      ]
     },
     "execution_count": 11,
     "metadata": {},
     "output_type": "execute_result"
    }
   ],
   "source": [
    "# total number of articles in the original dataset\n",
    "df.count()"
   ]
  },
  {
   "cell_type": "code",
   "execution_count": 12,
   "id": "101832b2",
   "metadata": {},
   "outputs": [
    {
     "name": "stderr",
     "output_type": "stream",
     "text": [
      "                                                                                \r"
     ]
    },
    {
     "data": {
      "text/html": [
       "<div>\n",
       "<style scoped>\n",
       "    .dataframe tbody tr th:only-of-type {\n",
       "        vertical-align: middle;\n",
       "    }\n",
       "\n",
       "    .dataframe tbody tr th {\n",
       "        vertical-align: top;\n",
       "    }\n",
       "\n",
       "    .dataframe thead th {\n",
       "        text-align: right;\n",
       "    }\n",
       "</style>\n",
       "<table border=\"1\" class=\"dataframe\">\n",
       "  <thead>\n",
       "    <tr style=\"text-align: right;\">\n",
       "      <th></th>\n",
       "      <th>publication</th>\n",
       "      <th>date</th>\n",
       "      <th>title</th>\n",
       "      <th>content</th>\n",
       "    </tr>\n",
       "  </thead>\n",
       "  <tbody>\n",
       "    <tr>\n",
       "      <th>0</th>\n",
       "      <td>New York Times</td>\n",
       "      <td>2016-12-31</td>\n",
       "      <td>House Republicans Fret About Winning Their Hea...</td>\n",
       "      <td>WASHINGTON  —   Congressional Republicans have...</td>\n",
       "    </tr>\n",
       "    <tr>\n",
       "      <th>1</th>\n",
       "      <td>New York Times</td>\n",
       "      <td>2017-06-19</td>\n",
       "      <td>Rift Between Officers and Residents as Killing...</td>\n",
       "      <td>After the bullet shells get counted, the blood...</td>\n",
       "    </tr>\n",
       "    <tr>\n",
       "      <th>2</th>\n",
       "      <td>New York Times</td>\n",
       "      <td>2017-01-06</td>\n",
       "      <td>Tyrus Wong, ‘Bambi’ Artist Thwarted by Racial ...</td>\n",
       "      <td>When Walt Disney’s “Bambi” opened in 1942, cri...</td>\n",
       "    </tr>\n",
       "    <tr>\n",
       "      <th>3</th>\n",
       "      <td>New York Times</td>\n",
       "      <td>2017-04-10</td>\n",
       "      <td>Among Deaths in 2016, a Heavy Toll in Pop Musi...</td>\n",
       "      <td>Death may be the great equalizer, but it isn’t...</td>\n",
       "    </tr>\n",
       "    <tr>\n",
       "      <th>4</th>\n",
       "      <td>New York Times</td>\n",
       "      <td>2017-01-02</td>\n",
       "      <td>Kim Jong-un Says North Korea Is Preparing to T...</td>\n",
       "      <td>SEOUL, South Korea  —   North Korea’s leader, ...</td>\n",
       "    </tr>\n",
       "  </tbody>\n",
       "</table>\n",
       "</div>"
      ],
      "text/plain": [
       "      publication        date  \\\n",
       "0  New York Times  2016-12-31   \n",
       "1  New York Times  2017-06-19   \n",
       "2  New York Times  2017-01-06   \n",
       "3  New York Times  2017-04-10   \n",
       "4  New York Times  2017-01-02   \n",
       "\n",
       "                                               title  \\\n",
       "0  House Republicans Fret About Winning Their Hea...   \n",
       "1  Rift Between Officers and Residents as Killing...   \n",
       "2  Tyrus Wong, ‘Bambi’ Artist Thwarted by Racial ...   \n",
       "3  Among Deaths in 2016, a Heavy Toll in Pop Musi...   \n",
       "4  Kim Jong-un Says North Korea Is Preparing to T...   \n",
       "\n",
       "                                             content  \n",
       "0  WASHINGTON  —   Congressional Republicans have...  \n",
       "1  After the bullet shells get counted, the blood...  \n",
       "2  When Walt Disney’s “Bambi” opened in 1942, cri...  \n",
       "3  Death may be the great equalizer, but it isn’t...  \n",
       "4  SEOUL, South Korea  —   North Korea’s leader, ...  "
      ]
     },
     "execution_count": 12,
     "metadata": {},
     "output_type": "execute_result"
    }
   ],
   "source": [
    "# convert to Pandas dataframe for visualization\n",
    "df_pd = df.select(\"publication\", \"date\", \"title\", \"content\").toPandas()\n",
    "df_pd.head()"
   ]
  },
  {
   "cell_type": "code",
   "execution_count": 13,
   "id": "d627ebfa",
   "metadata": {},
   "outputs": [
    {
     "name": "stdout",
     "output_type": "stream",
     "text": [
      "publication\n",
      "Breitbart           23776\n",
      "CNN                 11488\n",
      "New York Times       7803\n",
      "Business Insider     6753\n",
      "Atlantic              171\n",
      " but ISIS               1\n",
      "Name: title, dtype: int64\n"
     ]
    }
   ],
   "source": [
    "# first look at how many articles are there in which publications\n",
    "df_pub = df_pd.groupby('publication')['title'].count().sort_values(ascending=False)\n",
    "print(df_pub)"
   ]
  },
  {
   "cell_type": "code",
   "execution_count": 14,
   "id": "25d98a91",
   "metadata": {},
   "outputs": [
    {
     "data": {
      "text/html": [
       "<div>\n",
       "<style scoped>\n",
       "    .dataframe tbody tr th:only-of-type {\n",
       "        vertical-align: middle;\n",
       "    }\n",
       "\n",
       "    .dataframe tbody tr th {\n",
       "        vertical-align: top;\n",
       "    }\n",
       "\n",
       "    .dataframe thead th {\n",
       "        text-align: right;\n",
       "    }\n",
       "</style>\n",
       "<table border=\"1\" class=\"dataframe\">\n",
       "  <thead>\n",
       "    <tr style=\"text-align: right;\">\n",
       "      <th></th>\n",
       "      <th>publication</th>\n",
       "      <th>date</th>\n",
       "      <th>title</th>\n",
       "      <th>content</th>\n",
       "    </tr>\n",
       "  </thead>\n",
       "  <tbody>\n",
       "    <tr>\n",
       "      <th>44329</th>\n",
       "      <td>but ISIS</td>\n",
       "      <td>Business Insider</td>\n",
       "      <td>\"Rubio knocks Tillerson’s opposition to regime...</td>\n",
       "      <td>4.0</td>\n",
       "    </tr>\n",
       "  </tbody>\n",
       "</table>\n",
       "</div>"
      ],
      "text/plain": [
       "      publication              date  \\\n",
       "44329    but ISIS  Business Insider   \n",
       "\n",
       "                                                   title content  \n",
       "44329  \"Rubio knocks Tillerson’s opposition to regime...     4.0  "
      ]
     },
     "execution_count": 14,
     "metadata": {},
     "output_type": "execute_result"
    }
   ],
   "source": [
    "# publication named ' but ISIS' seems wrong, so let's check that row\n",
    "df_pd[df_pd['publication']==' but ISIS']"
   ]
  },
  {
   "cell_type": "code",
   "execution_count": 15,
   "id": "4aed4471",
   "metadata": {},
   "outputs": [],
   "source": [
    "# since we can't find the content, let's remove it\n",
    "df_pd = df_pd[df_pd['publication']!=' but ISIS']"
   ]
  },
  {
   "cell_type": "code",
   "execution_count": 16,
   "id": "353f1560",
   "metadata": {},
   "outputs": [
    {
     "data": {
      "image/png": "[encoded data removed]",
      "text/plain": [
       "<Figure size 1200x700 with 1 Axes>"
      ]
     },
     "metadata": {},
     "output_type": "display_data"
    }
   ],
   "source": [
    "# create visualization for distribution of articles by publication\n",
    "plt.figure(figsize=[12,7])\n",
    "df_pd.groupby('publication')['title'].count().sort_values(ascending=False).plot(kind='bar')\n",
    "\n",
    "plt.xlabel('Publication')\n",
    "plt.ylabel('Count')\n",
    "plt.title('Number of Articles by Publication')\n",
    "\n",
    "plt.grid(alpha=0.2)"
   ]
  },
  {
   "cell_type": "code",
   "execution_count": 17,
   "id": "2c0ae1cf",
   "metadata": {},
   "outputs": [
    {
     "data": {
      "text/plain": [
       "('2011-11-22', '2017-06-21')"
      ]
     },
     "execution_count": 17,
     "metadata": {},
     "output_type": "execute_result"
    }
   ],
   "source": [
    "# date range for articles in dataset\n",
    "df_pd['date'].min(), df_pd['date'].max()"
   ]
  },
  {
   "cell_type": "code",
   "execution_count": 18,
   "id": "62f9eaac",
   "metadata": {},
   "outputs": [],
   "source": [
    "# create a column showing the length of each article\n",
    "df_pd['content_length'] = df_pd['content'].str.len()"
   ]
  },
  {
   "cell_type": "code",
   "execution_count": 19,
   "id": "bb96c4b2",
   "metadata": {},
   "outputs": [
    {
     "data": {
      "text/html": [
       "<div>\n",
       "<style scoped>\n",
       "    .dataframe tbody tr th:only-of-type {\n",
       "        vertical-align: middle;\n",
       "    }\n",
       "\n",
       "    .dataframe tbody tr th {\n",
       "        vertical-align: top;\n",
       "    }\n",
       "\n",
       "    .dataframe thead th {\n",
       "        text-align: right;\n",
       "    }\n",
       "</style>\n",
       "<table border=\"1\" class=\"dataframe\">\n",
       "  <thead>\n",
       "    <tr style=\"text-align: right;\">\n",
       "      <th></th>\n",
       "      <th>publication</th>\n",
       "      <th>date</th>\n",
       "      <th>title</th>\n",
       "      <th>content</th>\n",
       "      <th>content_length</th>\n",
       "    </tr>\n",
       "  </thead>\n",
       "  <tbody>\n",
       "    <tr>\n",
       "      <th>0</th>\n",
       "      <td>New York Times</td>\n",
       "      <td>2016-12-31</td>\n",
       "      <td>House Republicans Fret About Winning Their Hea...</td>\n",
       "      <td>WASHINGTON  —   Congressional Republicans have...</td>\n",
       "      <td>5607</td>\n",
       "    </tr>\n",
       "    <tr>\n",
       "      <th>1</th>\n",
       "      <td>New York Times</td>\n",
       "      <td>2017-06-19</td>\n",
       "      <td>Rift Between Officers and Residents as Killing...</td>\n",
       "      <td>After the bullet shells get counted, the blood...</td>\n",
       "      <td>27834</td>\n",
       "    </tr>\n",
       "    <tr>\n",
       "      <th>2</th>\n",
       "      <td>New York Times</td>\n",
       "      <td>2017-01-06</td>\n",
       "      <td>Tyrus Wong, ‘Bambi’ Artist Thwarted by Racial ...</td>\n",
       "      <td>When Walt Disney’s “Bambi” opened in 1942, cri...</td>\n",
       "      <td>14018</td>\n",
       "    </tr>\n",
       "    <tr>\n",
       "      <th>3</th>\n",
       "      <td>New York Times</td>\n",
       "      <td>2017-04-10</td>\n",
       "      <td>Among Deaths in 2016, a Heavy Toll in Pop Musi...</td>\n",
       "      <td>Death may be the great equalizer, but it isn’t...</td>\n",
       "      <td>12274</td>\n",
       "    </tr>\n",
       "    <tr>\n",
       "      <th>4</th>\n",
       "      <td>New York Times</td>\n",
       "      <td>2017-01-02</td>\n",
       "      <td>Kim Jong-un Says North Korea Is Preparing to T...</td>\n",
       "      <td>SEOUL, South Korea  —   North Korea’s leader, ...</td>\n",
       "      <td>4195</td>\n",
       "    </tr>\n",
       "  </tbody>\n",
       "</table>\n",
       "</div>"
      ],
      "text/plain": [
       "      publication        date  \\\n",
       "0  New York Times  2016-12-31   \n",
       "1  New York Times  2017-06-19   \n",
       "2  New York Times  2017-01-06   \n",
       "3  New York Times  2017-04-10   \n",
       "4  New York Times  2017-01-02   \n",
       "\n",
       "                                               title  \\\n",
       "0  House Republicans Fret About Winning Their Hea...   \n",
       "1  Rift Between Officers and Residents as Killing...   \n",
       "2  Tyrus Wong, ‘Bambi’ Artist Thwarted by Racial ...   \n",
       "3  Among Deaths in 2016, a Heavy Toll in Pop Musi...   \n",
       "4  Kim Jong-un Says North Korea Is Preparing to T...   \n",
       "\n",
       "                                             content  content_length  \n",
       "0  WASHINGTON  —   Congressional Republicans have...            5607  \n",
       "1  After the bullet shells get counted, the blood...           27834  \n",
       "2  When Walt Disney’s “Bambi” opened in 1942, cri...           14018  \n",
       "3  Death may be the great equalizer, but it isn’t...           12274  \n",
       "4  SEOUL, South Korea  —   North Korea’s leader, ...            4195  "
      ]
     },
     "execution_count": 19,
     "metadata": {},
     "output_type": "execute_result"
    }
   ],
   "source": [
    "df_pd.head()"
   ]
  },
  {
   "cell_type": "code",
   "execution_count": 20,
   "id": "85372619",
   "metadata": {},
   "outputs": [
    {
     "data": {
      "text/plain": [
       "count     49991.0\n",
       "mean       3854.0\n",
       "std        3876.0\n",
       "min           1.0\n",
       "25%        1682.0\n",
       "50%        2853.0\n",
       "75%        5046.0\n",
       "max      149346.0\n",
       "Name: content_length, dtype: float64"
      ]
     },
     "execution_count": 20,
     "metadata": {},
     "output_type": "execute_result"
    }
   ],
   "source": [
    "# describe the length of articles\n",
    "df_pd['content_length'].describe().round()"
   ]
  },
  {
   "cell_type": "code",
   "execution_count": 25,
   "id": "60337420",
   "metadata": {},
   "outputs": [
    {
     "data": {
      "image/png": "[encoded data removed]",
      "text/plain": [
       "<Figure size 500x700 with 1 Axes>"
      ]
     },
     "metadata": {},
     "output_type": "display_data"
    }
   ],
   "source": [
    "# create visualization for distribution of length of articles\n",
    "plt.figure(figsize=[5,7])\n",
    "df_pd['content_length'].plot(kind='box')\n",
    "\n",
    "plt.title('Distribution of Length of News Content')\n",
    "\n",
    "plt.grid(alpha=0.2)"
   ]
  },
  {
   "cell_type": "code",
   "execution_count": 22,
   "id": "29162582",
   "metadata": {
    "collapsed": true
   },
   "outputs": [
    {
     "name": "stdout",
     "output_type": "stream",
     "text": [
      "10092.0\n"
     ]
    }
   ],
   "source": [
    "# find the max value of the boxplot \n",
    "iqr = 5046 - 1682\n",
    "boxplot_max = 5046 + 1.5*iqr\n",
    "print(boxplot_max)"
   ]
  },
  {
   "cell_type": "code",
   "execution_count": 23,
   "id": "24188305",
   "metadata": {},
   "outputs": [
    {
     "data": {
      "text/plain": [
       "1854"
      ]
     },
     "execution_count": 23,
     "metadata": {},
     "output_type": "execute_result"
    }
   ],
   "source": [
    "# there are 1,854 articles that are represented by dots in boxplot\n",
    "df_pd[df_pd['content_length']>boxplot_max]['title'].count()"
   ]
  },
  {
   "cell_type": "code",
   "execution_count": 26,
   "id": "776da3c9",
   "metadata": {},
   "outputs": [],
   "source": [
    "# create a random subset of original data to make it < 20MB\n",
    "df_short = df.orderBy(rand(seed=101)).limit(3000)"
   ]
  },
  {
   "cell_type": "code",
   "execution_count": 27,
   "id": "11e76629",
   "metadata": {},
   "outputs": [
    {
     "name": "stderr",
     "output_type": "stream",
     "text": [
      "                                                                                \r"
     ]
    },
    {
     "data": {
      "text/plain": [
       "3000"
      ]
     },
     "execution_count": 27,
     "metadata": {},
     "output_type": "execute_result"
    }
   ],
   "source": [
    "# number of articles in the new small dataset\n",
    "df_short.count()"
   ]
  },
  {
   "cell_type": "code",
   "execution_count": 20,
   "id": "ebe70b07",
   "metadata": {},
   "outputs": [],
   "source": [
    "# create a csv file \n",
    "# df_short.write.csv(\"data/articles_reduced\", header=True)"
   ]
  },
  {
   "cell_type": "code",
   "execution_count": 3,
   "id": "94cbf547",
   "metadata": {},
   "outputs": [
    {
     "name": "stderr",
     "output_type": "stream",
     "text": [
      "\r",
      "[Stage 0:>                                                          (0 + 1) / 1]\r",
      "\r",
      "                                                                                \r"
     ]
    }
   ],
   "source": [
    "# read from csv\n",
    "# df_short = spark.read.csv(\"data/articles_reduced.csv\", header=True)\n",
    "# df_short.printSchema()"
   ]
  },
  {
   "cell_type": "code",
   "execution_count": 3,
   "id": "4a77f181",
   "metadata": {},
   "outputs": [
    {
     "name": "stderr",
     "output_type": "stream",
     "text": [
      "\r",
      "[Stage 1:>                                                          (0 + 2) / 2]\r"
     ]
    },
    {
     "name": "stdout",
     "output_type": "stream",
     "text": [
      "+---+---+-----+-----------+------+----+----+-----+----+-------+\n",
      "|_c0| id|title|publication|author|date|year|month| url|content|\n",
      "+---+---+-----+-----------+------+----+----+-----+----+-------+\n",
      "|  0|  0|    0|          0|   355|   0|3000| 3000|3000|      0|\n",
      "+---+---+-----+-----------+------+----+----+-----+----+-------+\n",
      "\n"
     ]
    },
    {
     "name": "stderr",
     "output_type": "stream",
     "text": [
      "\r",
      "                                                                                \r"
     ]
    }
   ],
   "source": [
    "# check again for null values\n",
    "df_short.select([count(when(isnan(c) | col(c).isNull(), c)).alias(c) for c in df_short.columns]).show()"
   ]
  },
  {
   "cell_type": "code",
   "execution_count": 4,
   "id": "0fb92639",
   "metadata": {},
   "outputs": [
    {
     "name": "stdout",
     "output_type": "stream",
     "text": [
      "+-----+--------------------+----------------+----------+--------------------+\n",
      "|   id|               title|     publication|      date|             content|\n",
      "+-----+--------------------+----------------+----------+--------------------+\n",
      "|69985|These Chris Chris...|Business Insider|2016-06-07|’’ ”Chris Christi...|\n",
      "|59658|CNN projection: G...|             CNN|2016-12-10|(CNN) CNN project...|\n",
      "|58071|The debate in 140...|             CNN|2016-09-26|(CNN) CNN Opinion...|\n",
      "|42739|Pamela Geller: Sl...|       Breitbart|2016-08-02|Slate magazine on...|\n",
      "|38651|Attack on America...|       Breitbart|2016-08-24|The American Univ...|\n",
      "+-----+--------------------+----------------+----------+--------------------+\n",
      "only showing top 5 rows\n",
      "\n"
     ]
    }
   ],
   "source": [
    "# select only the columns of our interest\n",
    "df_final = df_short.select(\"id\", \"title\", \"publication\", \"date\", \"content\")\n",
    "df_final.show(5)"
   ]
  },
  {
   "cell_type": "code",
   "execution_count": 5,
   "id": "7b6ad676",
   "metadata": {},
   "outputs": [
    {
     "name": "stderr",
     "output_type": "stream",
     "text": [
      "                                                                                \r"
     ]
    },
    {
     "data": {
      "text/plain": [
       "'’’ ”Chris Christie’s image among New Jerseyans has become stunningly bad.” ”A Monday poll from Monmouth University found Christie’s approval rating at an   low  —   worse than the negative ratings respondents gave the state Legislature.” ’That survey comes weeks after  that Christie had the ’ ’More than   of New Jerseyans also responded that they believe Christie endorsed presumptive GOP nominee Donald Trump only to improve his chances of obtaining a federal appointment.’ ”Christie’s approval rating in the Monmouth poll stood at a dismal 27% while 63% disapproved of the job the governor is performing. That’s a tick worse than he did in the historically bad Quinnipiac survey, in which his approval rating was 29%. When registered voters were isolated in the Monmouth poll, Christie’s approval dropped from 27% to 26%.” ”The approval rating was a record low for the governor in the Monmouth survey. The state Legislature, of which 30% of New Jerseyans approved, stood better than Christie’s rating for the first time in his   years in office.” ’”It’’s really saying something when the legislature, which rarely manages to get its rating above water, is seen as more effective than the governor,” said Patrick Murray, director of the independent Monmouth University Polling Institute.’ ’’ ’About 80% of respondents in the Garden State, meanwhile, said that Christie was more concerned with his political future than governing New Jersey. And 68% of New Jersey residents said that the prospect of a future federal appointment was the reason he endorsed Trump.’ ’”Despite his statements to the contrary, the vast majority of New Jerseyans seem to believe that Christie’’s main concern right now is figuring how to get out of the state as soon as possible,” Murray said.’ ” survey, voters in the state, which holds its primary on Tuesday, made it clear that they don’t want Trump to select Christie as his running mate when they said, by a 72% to 18% split, that the Manhattan businessman should steer clear of their governor.”'"
      ]
     },
     "execution_count": 5,
     "metadata": {},
     "output_type": "execute_result"
    }
   ],
   "source": [
    "# first article in dataset (Business InsiderIt )\n",
    "df_final.collect()[0][4]"
   ]
  },
  {
   "cell_type": "code",
   "execution_count": 6,
   "id": "adb428fd",
   "metadata": {},
   "outputs": [
    {
     "data": {
      "text/plain": [
       "'’  ’ ’   The small state of New Hampshire could prove to be of the utmost   importance by the conclusion of Election Day. ’ ’   And, with 25% of precincts reporting, Republican nominee Donald   Trump held a  over Democratic   nominee Hillary Clinton. ’ ”   In the latest  Clinton   held a less than   lead over Trump after holding a much   more substantial lead in the lead up to Tuesday’s vote.  ” ”   The state’s four electoral votes might be the difference in   whether Clinton could hold off a Trump surge, or whether Trump   could complete the improbable and reach 270 electoral votes. ” ’   Polls close in the Granite State at 7 p. m. EST. But late Tuesday   evening, a judge ruled that polls around Dover will stay . ’ ’’ ”   New Hampshire is also home to a competitive Senate race, as well   as one for the governor’s mansion. In the Senate battle,   incumbent Republican Sen. Kelly Ayotte leads Democratic Gov.   Maggie Hassan by 1. 5 points  while Republican Chris   Sununu leads Democrat Colin Van Ostern by 1. 2   points  for the governorship. ” ’   Ayotte held an early lead over Hassan, and Sununu held   an early lead over Van Ostern. ’ ’ Developing. .. ’'"
      ]
     },
     "execution_count": 6,
     "metadata": {},
     "output_type": "execute_result"
    }
   ],
   "source": [
    "# Business Insider article\n",
    "df_final.collect()[5][4]"
   ]
  },
  {
   "cell_type": "code",
   "execution_count": 7,
   "id": "26df986c",
   "metadata": {},
   "outputs": [
    {
     "name": "stdout",
     "output_type": "stream",
     "text": [
      "+-----+--------------------+--------------+----------+--------------------+\n",
      "|   id|               title|   publication|      date|             content|\n",
      "+-----+--------------------+--------------+----------+--------------------+\n",
      "|59658|CNN projection: G...|           CNN|2016-12-10|(CNN) CNN project...|\n",
      "|58071|The debate in 140...|           CNN|2016-09-26|(CNN) CNN Opinion...|\n",
      "|42739|Pamela Geller: Sl...|     Breitbart|2016-08-02|Slate magazine on...|\n",
      "|38651|Attack on America...|     Breitbart|2016-08-24|The American Univ...|\n",
      "|24574|Business Since Bi...|New York Times|2016-12-12|When Donald J. Tr...|\n",
      "|52943|Colombia mudslide...|           CNN|2017-04-01|(CNN) Mudslides k...|\n",
      "|57117|CNN Student News ...|           CNN|2016-08-23|August 24, 2016, ...|\n",
      "|55662|Hillary Clinton r...|           CNN|2016-07-01|Washington (CNN) ...|\n",
      "|20674|Supreme Court Uph...|New York Times|2016-06-30|WASHINGTON  —   T...|\n",
      "|31116|Trade Deficit Fal...|     Breitbart|2017-04-04|The U. S. trade d...|\n",
      "|50798|Donald Trump, att...|           CNN|2017-01-15|(CNN) On Saturday...|\n",
      "|40712|Matthews: ’There ...|     Breitbart|2016-01-26|MSNBC’s “Hardball...|\n",
      "|34040|Fashion Notes: Me...|     Breitbart|2017-06-19|For First Lady Me...|\n",
      "|39426|Vice’s Toure: ’We...|     Breitbart|2016-05-07|Saturday on MSNBC...|\n",
      "|32729|Review: Michael S...|     Breitbart|2017-03-23|It would have bee...|\n",
      "|53556|Venezuela protest...|           CNN|2017-04-22|(CNN) After weeks...|\n",
      "|50846|Weather for Trump...|           CNN|2017-01-17|(CNN) It might li...|\n",
      "|38619|Calls Grow For UK...|     Breitbart|2016-07-11|Calls for a Gener...|\n",
      "|40797|Reid Lied About R...|     Breitbart|2016-11-17|Senate Minority L...|\n",
      "|53576|Numerous states c...|           CNN|2017-04-24|(CNN) Spencer Des...|\n",
      "+-----+--------------------+--------------+----------+--------------------+\n",
      "only showing top 20 rows\n",
      "\n"
     ]
    }
   ],
   "source": [
    "# Business Insider articles are too dirty. For the purpose of this project, exclude them.\n",
    "df_final = df_final.filter(df_final.publication != \"Business Insider\")\n",
    "df_final.show()"
   ]
  },
  {
   "cell_type": "code",
   "execution_count": 8,
   "id": "2c3c58e5",
   "metadata": {},
   "outputs": [],
   "source": [
    "# most articles have many two or more spaces. convert them to one space\n",
    "reg_exp = \"\\\\s+\"\n",
    "df_final = df_final.select(\"id\", \\\n",
    "                           \"title\", \\\n",
    "                           \"publication\", \\\n",
    "                           \"date\", \\\n",
    "                           regexp_replace(col(\"content\"), reg_exp, \" \").alias(\"content\"))\n",
    "# df_final.show()"
   ]
  },
  {
   "cell_type": "code",
   "execution_count": 15,
   "id": "35ef0d5c",
   "metadata": {},
   "outputs": [],
   "source": [
    "# t5small = T5Transformer() \\\n",
    "#   .pretrained(\"t5_small\", 'en') \\\n",
    "#   .setTask(\"summarize:\")\\\n",
    "#   .setMaxOutputLength(200)\\\n",
    "#   .setInputCols([\"documents\"]) \\\n",
    "#   .setOutputCol(\"summaries\")\n",
    "\n",
    "# summarizer_t5small = Pipeline(stages=[\n",
    "#     document_assembler, t5small\n",
    "# ])"
   ]
  },
  {
   "cell_type": "code",
   "execution_count": 10,
   "id": "56c551b0",
   "metadata": {},
   "outputs": [
    {
     "name": "stdout",
     "output_type": "stream",
     "text": [
      "t5_small download started this may take some time.\n",
      "Approximate size to download 241.9 MB\n",
      "[ | ]t5_small download started this may take some time.\n",
      "Approximate size to download 241.9 MB\n",
      "[ / ]Download done! Loading the resource.\n",
      "[ — ]"
     ]
    },
    {
     "name": "stderr",
     "output_type": "stream",
     "text": [
      "2023-05-05 20:11:59.527034: I external/org_tensorflow/tensorflow/core/platform/cpu_feature_guard.cc:151] This TensorFlow binary is optimized with oneAPI Deep Neural Network Library (oneDNN) to use the following CPU instructions in performance-critical operations:  AVX2 FMA\n",
      "To enable them in other operations, rebuild TensorFlow with the appropriate compiler flags.\n"
     ]
    },
    {
     "name": "stdout",
     "output_type": "stream",
     "text": [
      "[OK!]\n"
     ]
    }
   ],
   "source": [
    "document_assembler = DocumentAssembler()\\\n",
    ".setInputCol(\"content\")\\\n",
    ".setOutputCol(\"documents\")\n",
    "\n",
    "# T5-small model for text summarization\n",
    "t5 = T5Transformer() \\\n",
    ".pretrained(\"t5_small\") \\\n",
    ".setTask(\"summarize:\")\\\n",
    ".setMaxOutputLength(200)\\\n",
    ".setInputCols([\"documents\"]) \\\n",
    ".setOutputCol(\"summaries\")"
   ]
  },
  {
   "cell_type": "code",
   "execution_count": 20,
   "id": "05b323f5",
   "metadata": {},
   "outputs": [
    {
     "name": "stderr",
     "output_type": "stream",
     "text": [
      "\r",
      "[Stage 21:>                                                         (0 + 1) / 1]\r"
     ]
    },
    {
     "name": "stdout",
     "output_type": "stream",
     "text": [
      "+-----+--------------------+-----------+----------+--------------------+--------------------+--------------------+\n",
      "|   id|               title|publication|      date|             content|           documents|           summaries|\n",
      "+-----+--------------------+-----------+----------+--------------------+--------------------+--------------------+\n",
      "|59658|CNN projection: G...|        CNN|2016-12-10|(CNN) CNN project...|[{document, 0, 18...|[{document, 0, 13...|\n",
      "+-----+--------------------+-----------+----------+--------------------+--------------------+--------------------+\n",
      "\n"
     ]
    },
    {
     "name": "stderr",
     "output_type": "stream",
     "text": [
      "\r",
      "                                                                                \r"
     ]
    }
   ],
   "source": [
    "pipeline = Pipeline().setStages([document_assembler, t5])\n",
    "results = pipeline.fit(df_final.limit(1)).transform(df_final.limit(1))\n",
    "results.show(1)"
   ]
  },
  {
   "cell_type": "code",
   "execution_count": 21,
   "id": "e388194b",
   "metadata": {},
   "outputs": [
    {
     "name": "stderr",
     "output_type": "stream",
     "text": [
      "\r",
      "[Stage 24:>                                                         (0 + 1) / 1]\r"
     ]
    },
    {
     "name": "stdout",
     "output_type": "stream",
     "text": [
      "+-------------------------------------------------------------------------------------------------------------------------------------------+\n",
      "|result                                                                                                                                     |\n",
      "+-------------------------------------------------------------------------------------------------------------------------------------------+\n",
      "|[the final race of the 2016 election cycle was held in the deep red state . the republican has a slim majority of 52 seats in the Senate .]|\n",
      "+-------------------------------------------------------------------------------------------------------------------------------------------+\n",
      "\n"
     ]
    },
    {
     "name": "stderr",
     "output_type": "stream",
     "text": [
      "\r",
      "                                                                                \r"
     ]
    }
   ],
   "source": [
    "results.select(\"summaries.result\").show(truncate=False)"
   ]
  },
  {
   "cell_type": "code",
   "execution_count": 22,
   "id": "0c40a984",
   "metadata": {},
   "outputs": [],
   "source": [
    "# empty_df = spark.createDataFrame([['']]).toDF('text')\n",
    "# pipeline_t5small = summarizer_t5small.fit(empty_df)\n",
    "# sum_t5small = LightPipeline(pipeline_t5small)\n",
    "\n",
    "# example_txt = df_final.collect()[5][4]\n",
    "\n",
    "# res = sum_t5small.fullAnnotate(example_txt)[0]\n",
    "\n",
    "# print ('Summary:', res['summaries'][0].result)"
   ]
  },
  {
   "cell_type": "code",
   "execution_count": 23,
   "id": "da988d8f",
   "metadata": {},
   "outputs": [
    {
     "name": "stdout",
     "output_type": "stream",
     "text": [
      "t5_base download started this may take some time.\n",
      "Approximate size to download 451.8 MB\n",
      "[ \\ ]t5_base download started this may take some time.\n",
      "Approximate size to download 451.8 MB\n",
      "[ | ]Download done! Loading the resource.\n",
      "[OK!]\n"
     ]
    }
   ],
   "source": [
    "#T5-base model for text summarization\n",
    "t5base = T5Transformer() \\\n",
    "  .pretrained(\"t5_base\", 'en') \\\n",
    "  .setTask(\"summarize:\")\\\n",
    "  .setMaxOutputLength(200)\\\n",
    "  .setInputCols([\"documents\"]) \\\n",
    "  .setOutputCol(\"summaries\")\n",
    "\n",
    "summarizer_t5base = Pipeline(stages=[\n",
    "    document_assembler, t5base\n",
    "])"
   ]
  },
  {
   "cell_type": "code",
   "execution_count": 24,
   "id": "d2f9b8b8",
   "metadata": {},
   "outputs": [
    {
     "name": "stderr",
     "output_type": "stream",
     "text": [
      "\r",
      "[Stage 29:>                                                         (0 + 1) / 1]\r"
     ]
    },
    {
     "name": "stdout",
     "output_type": "stream",
     "text": [
      "+-----+--------------------+-----------+----------+--------------------+--------------------+--------------------+\n",
      "|   id|               title|publication|      date|             content|           documents|           summaries|\n",
      "+-----+--------------------+-----------+----------+--------------------+--------------------+--------------------+\n",
      "|59658|CNN projection: G...|        CNN|2016-12-10|(CNN) CNN project...|[{document, 0, 18...|[{document, 0, 22...|\n",
      "+-----+--------------------+-----------+----------+--------------------+--------------------+--------------------+\n",
      "\n"
     ]
    },
    {
     "name": "stderr",
     "output_type": "stream",
     "text": [
      "\r",
      "                                                                                \r"
     ]
    }
   ],
   "source": [
    "pipeline = Pipeline().setStages([document_assembler, t5base])\n",
    "results = pipeline.fit(df_final.limit(1)).transform(df_final.limit(1))\n",
    "results.show()"
   ]
  },
  {
   "cell_type": "code",
   "execution_count": 25,
   "id": "08e381c9",
   "metadata": {},
   "outputs": [
    {
     "name": "stderr",
     "output_type": "stream",
     "text": [
      "\r",
      "[Stage 32:>                                                         (0 + 1) / 1]\r"
     ]
    },
    {
     "name": "stdout",
     "output_type": "stream",
     "text": [
      "+-------------------------------------------------------------------------------------------------------------------------------------------------------------------------------------------------------------------------------------+\n",
      "|result                                                                                                                                                                                                                               |\n",
      "+-------------------------------------------------------------------------------------------------------------------------------------------------------------------------------------------------------------------------------------+\n",
      "|[preliminary votes from the secretary of state show that the Republican has won . the seat had been considered safe Republican in the deep red southern state . the Republicans now hold a slim majority of 52 seats in the Senate .]|\n",
      "+-------------------------------------------------------------------------------------------------------------------------------------------------------------------------------------------------------------------------------------+\n",
      "\n"
     ]
    },
    {
     "name": "stderr",
     "output_type": "stream",
     "text": [
      "\r",
      "                                                                                \r"
     ]
    }
   ],
   "source": [
    "results.select(\"summaries.result\").show(truncate=False)"
   ]
  },
  {
   "cell_type": "code",
   "execution_count": null,
   "id": "5251b7c5",
   "metadata": {},
   "outputs": [],
   "source": [
    "# pipeline_t5base = summarizer_t5base.fit(empty_df)\n",
    "# sum_t5base = LightPipeline(pipeline_t5base)\n",
    "\n",
    "# example_txt = df_final.collect()[5][4]\n",
    "\n",
    "# res = sum_t5base.fullAnnotate(example_txt)[0]\n",
    "\n",
    "# print ('Summary:', res['summaries'][0].result)"
   ]
  },
  {
   "cell_type": "code",
   "execution_count": 40,
   "id": "ae2a0e4d",
   "metadata": {},
   "outputs": [],
   "source": [
    "# \"distilbart_cnn_6_6\""
   ]
  },
  {
   "cell_type": "code",
   "execution_count": 134,
   "id": "0d8bd32f",
   "metadata": {},
   "outputs": [],
   "source": [
    "# Bart-Xsum model (did not work)\n",
    "# bart = BartTransformer() \\\n",
    "# .pretrained(\"distilbart_xsum_12_6\") \\\n",
    "# .setTask(\"summarize:\")\\\n",
    "# .setMaxOutputLength(200)\\\n",
    "# .setInputCols([\"documents\"]) \\\n",
    "# .setOutputCol(\"summaries\")r"
   ]
  },
  {
   "cell_type": "code",
   "execution_count": 26,
   "id": "50724915",
   "metadata": {},
   "outputs": [],
   "source": [
    "# Information extraction using RegexMatcherstinImportIm\n",
    "# Find 'year' and 'hashtag'\n",
    "\n",
    "# Step 1: Transform raw texts to `document` annotation\n",
    "documentAssembler = DocumentAssembler()\\\n",
    "    .setInputCol(\"text\")\\\n",
    "    .setOutputCol(\"document\")\n",
    "\n",
    "# Step 2: Define the regex rules    \n",
    "regex_matcher = RegexMatcher()\\\n",
    "    .setRules([\"\\d{4}, year\", \"\\#[a-zA-Z]+, hashtag\"]) \\\n",
    "    .setDelimiter(\",\") \\\n",
    "    .setInputCols([\"document\"]) \\\n",
    "    .setOutputCol(\"matched_text\") \\\n",
    "    .setStrategy(\"MATCH_ALL\")\n",
    "\n",
    "# Define the Pipeline\n",
    "nlpPipeline = Pipeline(stages=[documentAssembler,regex_matcher])"
   ]
  },
  {
   "cell_type": "code",
   "execution_count": 27,
   "id": "4ce3c674",
   "metadata": {},
   "outputs": [
    {
     "name": "stderr",
     "output_type": "stream",
     "text": [
      "                                                                                \r"
     ]
    }
   ],
   "source": [
    "# Make a sample text\n",
    "text_list = df_final.rdd.map(lambda x: x[4]).collect()\n",
    "\n",
    "# Convert the sample_text to a dataframe\n",
    "spark_df = spark.createDataFrame(text_list, StringType()).toDF(\"text\")\n",
    "\n",
    "# Fit and transform to get a prediction\n",
    "result = nlpPipeline.fit(spark_df).transform(spark_df)"
   ]
  },
  {
   "cell_type": "code",
   "execution_count": 29,
   "id": "3e366b90",
   "metadata": {},
   "outputs": [
    {
     "name": "stdout",
     "output_type": "stream",
     "text": [
      "+--------------------+--------------------+--------------------+\n",
      "|                text|            document|        matched_text|\n",
      "+--------------------+--------------------+--------------------+\n",
      "|(CNN) CNN project...|[{document, 0, 18...|[{chunk, 342, 345...|\n",
      "|(CNN) CNN Opinion...|[{document, 0, 72...|[{chunk, 829, 832...|\n",
      "|Slate magazine on...|[{document, 0, 73...|[{chunk, 4213, 42...|\n",
      "+--------------------+--------------------+--------------------+\n",
      "only showing top 3 rows\n",
      "\n"
     ]
    }
   ],
   "source": [
    "result.show(3)"
   ]
  },
  {
   "cell_type": "code",
   "execution_count": 31,
   "id": "370d5625",
   "metadata": {},
   "outputs": [
    {
     "name": "stdout",
     "output_type": "stream",
     "text": [
      "+--------------------+--------------------+--------------------+---+\n",
      "|                text|            document|        matched_text| id|\n",
      "+--------------------+--------------------+--------------------+---+\n",
      "|(CNN) CNN project...|[{document, 0, 18...|[{chunk, 342, 345...|  1|\n",
      "|(CNN) CNN Opinion...|[{document, 0, 72...|[{chunk, 829, 832...|  2|\n",
      "|Slate magazine on...|[{document, 0, 73...|[{chunk, 4213, 42...|  3|\n",
      "+--------------------+--------------------+--------------------+---+\n",
      "only showing top 3 rows\n",
      "\n"
     ]
    }
   ],
   "source": [
    "# create 'id' column for identifying each article\n",
    "w = Window().orderBy(lit('A'))\n",
    "result = result.withColumn(\"id\", row_number().over(w))\n",
    "result.show(3)"
   ]
  },
  {
   "cell_type": "code",
   "execution_count": 125,
   "id": "9600f0da",
   "metadata": {},
   "outputs": [],
   "source": [
    "# result.select(\"id\", \"matched_text.metadata\").show(1, False)"
   ]
  },
  {
   "cell_type": "code",
   "execution_count": 119,
   "id": "bddcf14e",
   "metadata": {},
   "outputs": [
    {
     "name": "stdout",
     "output_type": "stream",
     "text": [
      "+---+--------------------------------------------------------------------------------------------------------------------------------------------------------------------------------------------------------------------------------------------------------------------------------------------------------------------------------------------------------------------------------------------------------------------------------------------------------------------------------------------------------------------------------------------------------------------------------------------------------------------------------------------------------------------------------------------------------------------------------------------------------------------------------------------------------------------------------------------------------------------------------------------------------------------------------------------------------------------------------------------------------+\n",
      "|id |result                                                                                                                                                                                                                                                                                                                                                                                                                                                                                                                                                                                                                                                                                                                                                                                                                                                                                                                                                                                                  |\n",
      "+---+--------------------------------------------------------------------------------------------------------------------------------------------------------------------------------------------------------------------------------------------------------------------------------------------------------------------------------------------------------------------------------------------------------------------------------------------------------------------------------------------------------------------------------------------------------------------------------------------------------------------------------------------------------------------------------------------------------------------------------------------------------------------------------------------------------------------------------------------------------------------------------------------------------------------------------------------------------------------------------------------------------+\n",
      "|1  |[2016, 2016, 2015, Republican John Kennedy, Democrat Foster Campbell, The Republicans, Ku Klux Klan, David Duke, Donald Trump, Baton Rouge, John Kennedy, United States Senate, Vice Mike Pence, John Kennedy, New Orleans, Incumbent Republican Sen, David Vitter, Democrat John Bel Edwards]                                                                                                                                                                                                                                                                                                                                                                                                                                                                                                                                                                                                                                                                                                          |\n",
      "|2  |[1992, 2012, 1992, 2012, Hillary Clinton, Donald Trump, Paul Begala, Lester Holt, When Hillary, Paul Begala, Bill Clinton, White House, Roxanne Jones, Roxanne Jones, New York Daily News, The Philadelphia Inquirer, Frida Ghitis, Frida Ghitis, The Miami Herald, World Politics Review, Ruth Ben Ghiat, Pennsylvania Avenue, New York University, Roxanne Jones, Like Trump, Roxanne Jones, New York Daily News, The Philadelphia Inquirer, Lanhee Chen, Political Commentator, Policy Director, Governor Mitt Romney, Paul Begala, Donald Trump, Hillary Clinton, Ronald Reagan, Paul Begala, Bill Clinton, White House, Roxanne Jones, Roxanne Jones, New York Daily News, The Philadelphia Inquirer, Roxanne Jones, Roxanne Jones, New York Daily News, The Philadelphia Inquirer, Lanhee Chen, Hillary Clinton, Political Commentator, Policy Director, Governor Mitt Romney, Julian Zelizer, Lester Holt, Julian Zelizer, Princeton University, New America, Mel Robbins, Mel Robbins, Cupp The]|\n",
      "|3  |[1980, If You Want, Live Here, You Need, Rules Here, Twin Falls, Author Michelle Goldberg, Twin Falls, But Goldberg, Grant Loebs, Middle East, Michelle Goldberg, Zeze Rwasama, Refugee Center, Twin Falls, Twin Falls, Donald Trump, But Goldberg, Michelle Goldberg, Pamela Geller, American Freedom Defense Initiative, The Presidency, The Obama Administration, Practical Guide]                                                                                                                                                                                                                                                                                                                                                                                                                                                                                                                                                                                                                   |\n",
      "|4  |[2016, 2001, 2016, 2015, 2016, #AUAF, #Kabul, The American University, Breitbart News, American Embassy, American University, Afghan National Defense, Security Forces, Islamic State, Khorasan Province, Special Inspector General, Afghanistan Reconstruction, The Taliban, Canadian Embassy, The Taliban, Improvised Explosive Device, Khaama Press, Improvised Explosive Device, Javid Bidar, The Pentagon]                                                                                                                                                                                                                                                                                                                                                                                                                                                                                                                                                                                         |\n",
      "+---+--------------------------------------------------------------------------------------------------------------------------------------------------------------------------------------------------------------------------------------------------------------------------------------------------------------------------------------------------------------------------------------------------------------------------------------------------------------------------------------------------------------------------------------------------------------------------------------------------------------------------------------------------------------------------------------------------------------------------------------------------------------------------------------------------------------------------------------------------------------------------------------------------------------------------------------------------------------------------------------------------------+\n",
      "only showing top 4 rows\n",
      "\n"
     ]
    }
   ],
   "source": [
    "result.select(\"id\", \"matched_text.result\").show(4, False)"
   ]
  },
  {
   "cell_type": "code",
   "execution_count": 35,
   "id": "70659bba",
   "metadata": {},
   "outputs": [
    {
     "name": "stdout",
     "output_type": "stream",
     "text": [
      "+---+-------------+----------+--------+\n",
      "|id |Matches Found|identifier|sequence|\n",
      "+---+-------------+----------+--------+\n",
      "|1  |2016         | year     |0       |\n",
      "|1  |2016         | year     |1       |\n",
      "|1  |2015         | year     |2       |\n",
      "|2  |1992         | year     |0       |\n",
      "|2  |2012         | year     |1       |\n",
      "|2  |1992         | year     |2       |\n",
      "|2  |2012         | year     |3       |\n",
      "|3  |1980         | year     |0       |\n",
      "|4  |2016         | year     |0       |\n",
      "|4  |2001         | year     |1       |\n",
      "|4  |2016         | year     |2       |\n",
      "|4  |2015         | year     |3       |\n",
      "|4  |2016         | year     |4       |\n",
      "|4  |#AUAF        | hashtag  |5       |\n",
      "|4  |#Kabul       | hashtag  |6       |\n",
      "+---+-------------+----------+--------+\n",
      "only showing top 15 rows\n",
      "\n"
     ]
    }
   ],
   "source": [
    "# show matches found by identifier and sequence in each article\n",
    "result.select(\"id\",explode(arrays_zip(result.matched_text.result, \n",
    "                                     result.matched_text.metadata)).alias(\"cols\")) \\\n",
    "       .select(\"id\", expr(\"cols['0']\").alias(\"Matches Found\"),\n",
    "               expr(\"cols['1']['identifier']\").alias(\"identifier\"),\n",
    "               expr(\"cols['1']['chunk']\").alias(\"sequence\")).show(15,False)"
   ]
  },
  {
   "cell_type": "code",
   "execution_count": 36,
   "id": "d542e6d1",
   "metadata": {},
   "outputs": [],
   "source": [
    "# Information Extraction 2nd Example \n",
    "# Find consecutive capitalized words, which usually indicates names\n",
    "\n",
    "# Step 1: Transform raw texts to `document` annotation\n",
    "documentAssembler = DocumentAssembler()\\\n",
    "    .setInputCol(\"text\")\\\n",
    "    .setOutputCol(\"document\")\n",
    "\n",
    "# Step 2: Define the regex rules \n",
    "regex_matcher = RegexMatcher()\\\n",
    "    .setRules([\"[A-Z][a-z]+(?=\\s[A-Z])(?:\\s[A-Z][a-z]+)+, names\"]) \\\n",
    "    .setDelimiter(\",\") \\\n",
    "    .setInputCols([\"document\"]) \\\n",
    "    .setOutputCol(\"matched_text\") \\\n",
    "    .setStrategy(\"MATCH_ALL\")\n",
    "\n",
    "# Define the Pipeline\n",
    "nlpPipeline = Pipeline(stages=[documentAssembler,regex_matcher])"
   ]
  },
  {
   "cell_type": "code",
   "execution_count": 37,
   "id": "23066632",
   "metadata": {},
   "outputs": [
    {
     "name": "stderr",
     "output_type": "stream",
     "text": [
      "                                                                                \r"
     ]
    }
   ],
   "source": [
    "# Make a sample text\n",
    "text_list = df_final.rdd.map(lambda x: x[4]).collect()\n",
    "\n",
    "# Convert the sample_text to a dataframe\n",
    "spark_df = spark.createDataFrame(text_list, StringType()).toDF(\"text\")\n",
    "\n",
    "# Fit and transform to get a prediction\n",
    "result = nlpPipeline.fit(spark_df).transform(spark_df)"
   ]
  },
  {
   "cell_type": "code",
   "execution_count": 40,
   "id": "059d0628",
   "metadata": {},
   "outputs": [
    {
     "name": "stdout",
     "output_type": "stream",
     "text": [
      "+--------------------+--------------------+--------------------+---+\n",
      "|                text|            document|        matched_text| id|\n",
      "+--------------------+--------------------+--------------------+---+\n",
      "|(CNN) CNN project...|[{document, 0, 18...|[{chunk, 19, 41, ...|  1|\n",
      "|(CNN) CNN Opinion...|[{document, 0, 72...|[{chunk, 121, 135...|  2|\n",
      "|Slate magazine on...|[{document, 0, 73...|[{chunk, 36, 46, ...|  3|\n",
      "+--------------------+--------------------+--------------------+---+\n",
      "only showing top 3 rows\n",
      "\n"
     ]
    }
   ],
   "source": [
    "# create 'id' column for identifying each article\n",
    "w = Window().orderBy(lit('A'))\n",
    "result = result.withColumn(\"id\", row_number().over(w))\n",
    "result.show(3)"
   ]
  },
  {
   "cell_type": "code",
   "execution_count": 43,
   "id": "992d4de6",
   "metadata": {},
   "outputs": [
    {
     "name": "stderr",
     "output_type": "stream",
     "text": [
      "\r",
      "[Stage 64:>                                                         (0 + 2) / 2]\r"
     ]
    },
    {
     "name": "stdout",
     "output_type": "stream",
     "text": [
      "+---+-------------------------+----------+--------+\n",
      "|id |Matches Found            |identifier|sequence|\n",
      "+---+-------------------------+----------+--------+\n",
      "|1  |Republican John Kennedy  | names    |0       |\n",
      "|1  |Democrat Foster Campbell | names    |1       |\n",
      "|1  |The Republicans          | names    |2       |\n",
      "|1  |Ku Klux Klan             | names    |3       |\n",
      "|1  |David Duke               | names    |4       |\n",
      "|1  |Donald Trump             | names    |5       |\n",
      "|1  |Baton Rouge              | names    |6       |\n",
      "|1  |John Kennedy             | names    |7       |\n",
      "|1  |United States Senate     | names    |8       |\n",
      "|1  |Vice Mike Pence          | names    |9       |\n",
      "|1  |John Kennedy             | names    |10      |\n",
      "|1  |New Orleans              | names    |11      |\n",
      "|1  |Incumbent Republican Sen | names    |12      |\n",
      "|1  |David Vitter             | names    |13      |\n",
      "|1  |Democrat John Bel Edwards| names    |14      |\n",
      "|2  |Hillary Clinton          | names    |0       |\n",
      "|2  |Donald Trump             | names    |1       |\n",
      "|2  |Paul Begala              | names    |2       |\n",
      "|2  |Lester Holt              | names    |3       |\n",
      "|2  |When Hillary             | names    |4       |\n",
      "+---+-------------------------+----------+--------+\n",
      "only showing top 20 rows\n",
      "\n"
     ]
    },
    {
     "name": "stderr",
     "output_type": "stream",
     "text": [
      "\r",
      "[Stage 64:=============================>                            (1 + 1) / 2]\r",
      "\r",
      "                                                                                \r"
     ]
    }
   ],
   "source": [
    "# show matches found by identifier and sequence in each article\n",
    "result.select(\"id\",explode(arrays_zip(result.matched_text.result, \n",
    "                                     result.matched_text.metadata)).alias(\"cols\")) \\\n",
    "       .select(\"id\", expr(\"cols['0']\").alias(\"Matches Found\"),\n",
    "               expr(\"cols['1']['identifier']\").alias(\"identifier\"),\n",
    "               expr(\"cols['1']['chunk']\").alias(\"sequence\")).show(20,False)"
   ]
  }
 ],
 "metadata": {
  "kernelspec": {
   "display_name": "Python 3 (ipykernel)",
   "language": "python",
   "name": "python3"
  },
  "language_info": {
   "codemirror_mode": {
    "name": "ipython",
    "version": 3
   },
   "file_extension": ".py",
   "mimetype": "text/x-python",
   "name": "python",
   "nbconvert_exporter": "python",
   "pygments_lexer": "ipython3",
   "version": "3.10.6"
  }
 },
 "nbformat": 4,
 "nbformat_minor": 5
}
